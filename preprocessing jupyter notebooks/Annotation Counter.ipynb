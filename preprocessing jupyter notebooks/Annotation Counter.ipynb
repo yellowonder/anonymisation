{
 "cells": [
  {
   "cell_type": "markdown",
   "metadata": {},
   "source": [
    "### This notebook provides functions, that take annotated conll2002 input to: \n",
    "1. count the number of NE annotations \n",
    "2. count it of all existing NE-labels or multi-token annotations\n",
    "3. check which documents contain B-null tags; tokens that have been selected as a NE in INCEpTION, but which NE is not specified\n",
    "4. create a new file"
   ]
  },
  {
   "cell_type": "code",
   "execution_count": null,
   "metadata": {},
   "outputs": [],
   "source": [
    "import pandas as pd\n",
    "import numpy as np\n",
    "import glob\n",
    "import re\n",
    "import os\n",
    "import csv"
   ]
  },
  {
   "cell_type": "markdown",
   "metadata": {},
   "source": [
    "### 1.1 COUNTING NEs"
   ]
  },
  {
   "cell_type": "code",
   "execution_count": 2,
   "metadata": {},
   "outputs": [],
   "source": [
    "def count_NE(filepath):\n",
    "    \"\"\" takes filepath as input an returns a dictionary of all exisiting labels and the number of times they occur\"\"\"\n",
    "    cound = dict()\n",
    "    all_df=[]\n",
    "    colnames=[\"token\", \"NE\"]\n",
    "    for filename in glob.glob(filepath):\n",
    "        df = pd.read_csv(filename, names=colnames, delimiter=\" \", engine=\"python\", encoding='utf-8', quoting=csv.QUOTE_NONE)\n",
    "        df = df.replace(np.nan, \" \")\n",
    "        all_df.append(df)\n",
    "    cf = pd.concat([d.set_index(\"token\") for d in all_df], axis=0, ignore_index=False).reset_index()\n",
    "    cf=cf.loc[cf[\"NE\"].str.contains(\"B-\", regex=True)] #select strings containing \"B-\"\n",
    "    cound[\"annotations\"] = len(cf)\n",
    "    \n",
    "    gf=cf.groupby([\"NE\"]).size() #count per label\n",
    "    d=dict(gf)\n",
    "    for key, value in d.items():\n",
    "        if \"B-\" in key:\n",
    "            cound[key] = value\n",
    "    \n",
    "    cound[\"len\"] = len(cound)-1\n",
    "\n",
    "    return cound"
   ]
  },
  {
   "cell_type": "markdown",
   "metadata": {},
   "source": [
    "### 1.2 COUNTING multi-token NEs"
   ]
  },
  {
   "cell_type": "code",
   "execution_count": null,
   "metadata": {},
   "outputs": [],
   "source": [
    "def count_I(filepath):\n",
    "    cound = dict()\n",
    "    all_df=[]\n",
    "    colnames=[\"token\", \"NE\"]\n",
    "    for filename in glob.glob(filepath):\n",
    "        df = pd.read_csv(filename, names=colnames, delimiter=\" \", engine=\"python\", encoding='utf-8', quoting=csv.QUOTE_NONE)\n",
    "        df = df.replace(np.nan, \" \")\n",
    "        all_df.append(df)\n",
    "    cf = pd.concat([d.set_index(\"token\") for d in all_df], axis=0, ignore_index=False).reset_index()\n",
    "    cf=cf.loc[cf[\"NE\"].str.contains(\"I-\", regex=True)] #select strings containing \"I-\"\n",
    "    cound[\"annotations\"] = len(cf)\n",
    "    \n",
    "    gf=cf.groupby([\"NE\"]).size() #count per label\n",
    "    d=dict(gf)\n",
    "    for key, value in d.items():\n",
    "        if \"I-\" in key:\n",
    "            cound[key] = value\n",
    "    \n",
    "    cound[\"len\"] = len(cound)-1\n",
    "\n",
    "    return cound"
   ]
  },
  {
   "cell_type": "markdown",
   "metadata": {},
   "source": [
    "### 1.3 TRACE B-null"
   ]
  },
  {
   "cell_type": "code",
   "execution_count": null,
   "metadata": {},
   "outputs": [],
   "source": [
    "def trace_null(filepath):\n",
    "    nulls=[]\n",
    "    colnames=[\"token\", \"NE\"]\n",
    "    for filename in glob.glob(filepath):\n",
    "            df = pd.read_csv(filename, names=colnames, delimiter=\" \", encoding='utf-8', quoting=csv.QUOTE_NONE)\n",
    "            df = df.replace(np.nan, \" \")\n",
    "            nf = df.loc[df[\"NE\"] == \"B-null\"]\n",
    "            if len(nf) > 0:\n",
    "                nf = nf.rename(columns = { \"token\": \"\", \"NE\": \"\"})\n",
    "                b_null=dict()\n",
    "                b_null[\"doc\"] = filename[20:-11]\n",
    "                b_null[\"tokens\"] = nf\n",
    "                nulls.append(b_null)\n",
    "    return nulls"
   ]
  },
  {
   "cell_type": "markdown",
   "metadata": {},
   "source": [
    "### 1.4 CONCATENATE & CREATE NEW FILE"
   ]
  },
  {
   "cell_type": "code",
   "execution_count": null,
   "metadata": {},
   "outputs": [],
   "source": [
    "def create_csv(filepath, csvfilename):\n",
    "    all_df=[]\n",
    "    colnames=[\"token\", \"NE\"]\n",
    "    for filename in glob.glob(filepath):\n",
    "        df = pd.read_csv(filename, names=colnames, delimiter=\" \", engine=\"python\", encoding='utf-8', quoting=csv.QUOTE_NONE)\n",
    "        df = df.replace(np.nan, \" \")\n",
    "        all_df.append(df)\n",
    "\n",
    "    cf = pd.concat([d.set_index(\"token\") for d in all_df], axis=0, ignore_index=True).reset_index()\n",
    "    cf.to_csv(csvfilename, sep=\" \", index=False)"
   ]
  }
 ],
 "metadata": {
  "kernelspec": {
   "display_name": "Python 3",
   "language": "python",
   "name": "python3"
  },
  "language_info": {
   "codemirror_mode": {
    "name": "ipython",
    "version": 3
   },
   "file_extension": ".py",
   "mimetype": "text/x-python",
   "name": "python",
   "nbconvert_exporter": "python",
   "pygments_lexer": "ipython3",
   "version": "3.7.6"
  }
 },
 "nbformat": 4,
 "nbformat_minor": 4
}
