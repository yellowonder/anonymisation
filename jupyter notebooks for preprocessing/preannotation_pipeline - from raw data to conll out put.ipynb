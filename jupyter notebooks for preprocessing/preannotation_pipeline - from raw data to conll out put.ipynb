{
 "cells": [
  {
   "cell_type": "markdown",
   "metadata": {},
   "source": [
    "### This Notebook consists of the following components:\n",
    "1. import all packages, documents and merge into one df\n",
    "2. label categories for strata selection\n",
    "3. extract NL for each column and select the necessary columns\n",
    "4. Sample and strata selection\n",
    "5. For each strata sample, export the each file with id name, content of NL columns (with colums names as title of each bit) as conll files"
   ]
  },
  {
   "cell_type": "markdown",
   "metadata": {},
   "source": [
    "### 1. Import package, documents and merge into a df"
   ]
  },
  {
   "cell_type": "code",
   "execution_count": null,
   "metadata": {},
   "outputs": [],
   "source": [
    "import pandas as pd\n",
    "import numpy as np\n",
    "import glob\n",
    "import re\n",
    "from TextToCoNLL import text_to_conll\n",
    "import spacy\n",
    "import os"
   ]
  },
  {
   "cell_type": "code",
   "execution_count": null,
   "metadata": {},
   "outputs": [],
   "source": [
    "nlp=spacy.load('nl_core_news_sm')"
   ]
  },
  {
   "cell_type": "code",
   "execution_count": null,
   "metadata": {},
   "outputs": [],
   "source": [
    "pd.options.display.max_colwidth =5500"
   ]
  },
  {
   "cell_type": "markdown",
   "metadata": {},
   "source": [
    "### 1.1 filter to 5 columns: \"Identificatie\",\"SCMcode\",\"Toelichting\",\"Bevinding\",\"Verklaring\""
   ]
  },
  {
   "cell_type": "code",
   "execution_count": null,
   "metadata": {},
   "outputs": [],
   "source": [
    "def read_and_filter(filename):\n",
    "    \"\"\" read csv and filter out columns \"Identificatie\",\"Toelichting\",\"Bevinding\",\"Verklaring\" \"\"\"\n",
    "    df = pd.read_csv(filename, delimiter=\";\")\n",
    "    df = df.replace(np.nan, \" \")\n",
    "    \n",
    "    cf = pd.read_csv(\"/data/cybercrime/data/Feitcodetabel.csv\", delimiter=\";\") #can leave in the globe scope\n",
    "    nf = cf.merge(df, how='inner', left_on= 'Feitcode', right_on=\"Code\").drop('Feitcode', axis=1) #add column with SCMcode\n",
    "    \n",
    "    df = nf.filter(items=[\"Identificatie\",\"SCMcode\",\"Toelichting\",\"Bevinding\",\"Verklaring\"])\n",
    "    return df"
   ]
  },
  {
   "cell_type": "markdown",
   "metadata": {},
   "source": [
    "### 1.2 merge all dfs into 1 df"
   ]
  },
  {
   "cell_type": "code",
   "execution_count": null,
   "metadata": {},
   "outputs": [],
   "source": [
    "all_df=[]\n",
    "for filename in glob.glob(\"/data/cybercrime/data/*2016-??.csv\"):\n",
    "    df=read_and_filter(filename)\n",
    "    all_df.append(df)"
   ]
  },
  {
   "cell_type": "code",
   "execution_count": null,
   "metadata": {},
   "outputs": [],
   "source": [
    "pf =  pd.concat([d.set_index(\"Identificatie\") for d in all_df], axis=0, ignore_index=False).reset_index()"
   ]
  },
  {
   "cell_type": "markdown",
   "metadata": {},
   "source": [
    "## 2. Add labels"
   ]
  },
  {
   "cell_type": "markdown",
   "metadata": {},
   "source": [
    "### 2.1 define and add source labels"
   ]
  },
  {
   "cell_type": "code",
   "execution_count": null,
   "metadata": {},
   "outputs": [],
   "source": [
    "def get_source_label(row):\n",
    "    \"\"\"\"\"\"\n",
    "    verklaring=row[\"Verklaring\"]\n",
    "    if len(verklaring) < 2:\n",
    "        return \"p\"\n",
    "    if \"LMIO\" in row[\"Toelichting\"] or \"LMIO\" in row[\"Verklaring\"] : \n",
    "        return \"L\"\n",
    "    else:\n",
    "        return \"nL\""
   ]
  },
  {
   "cell_type": "code",
   "execution_count": null,
   "metadata": {},
   "outputs": [],
   "source": [
    "pf[\"Bron\"] = pf.apply(lambda row: get_source_label(row), axis=1)"
   ]
  },
  {
   "cell_type": "markdown",
   "metadata": {},
   "source": [
    "### 2.2 add SCM labels"
   ]
  },
  {
   "cell_type": "code",
   "execution_count": null,
   "metadata": {},
   "outputs": [],
   "source": [
    "def get_SCM(row):\n",
    "    SCM = row[\"SCMcode\"]\n",
    "    if SCM < 2000000:\n",
    "        return \"V\"\n",
    "    else:\n",
    "        return \"O\""
   ]
  },
  {
   "cell_type": "code",
   "execution_count": null,
   "metadata": {},
   "outputs": [],
   "source": [
    "pf[\"SCM\"] = pf.apply(lambda row: get_SCM(row), axis=1)"
   ]
  },
  {
   "cell_type": "markdown",
   "metadata": {},
   "source": [
    "## 3. Extracting NL per section and label"
   ]
  },
  {
   "cell_type": "markdown",
   "metadata": {},
   "source": [
    "### 3.1 Extract NL from Toelichting field"
   ]
  },
  {
   "cell_type": "code",
   "execution_count": null,
   "metadata": {},
   "outputs": [],
   "source": [
    "def extract_nlt(row):\n",
    "    \"Extracts natural language texts from LMIO Toelichting section\"\n",
    "    l_start= \"Via www.politie.nl is aangifte gedaan ter zake oplichting door de in deze registratie\"\n",
    "    end=\"(bereikbaar van maandag tot en met vrijdag tussen 08.00 en 17.00 uur).\\r\\n\"\n",
    "    p_start1=\"\\n\\nPlaats melder:\"\n",
    "    p_start2=\"\\n\\n\\nINCIDENT: \"\n",
    "    t =\"AANGIFTE OPGENOMEN MIDDELS INTERNET\"\n",
    "    t1=\"\\n\"\n",
    "    t2=\"\\n\\n\"\n",
    "    t3=\"\\n\\n\\n\"\n",
    "    t4=\"\\n\\n\\n\\n\"\n",
    "    ta=\"ER ZIJN REEDS GEGEVENS OVER HET VOORVAL DOORGEGEVEN\"\n",
    "    tb=\"POLITIE IS TER PLAATSE GEWEEST\"\n",
    "    tc=\"OOI\\n\"\n",
    "    \n",
    "    t0='In deze registratie gaat het om een melding tanken zonder betalen. Wanneer het kenteken drie maal bij de Landelijk Eenheid is geregistreerd voor tanken zonder betalen, dan worden de beschikbare gegevens van de Landelijke Eenheid doorgezonden naar de betrokken regio met het verzoek een opsporingsonderzoek naar de verantwoordelijke dader/kentekenhouder op te starten.\\n\\nVoor meer informatie neem contact op met de politie Landelijke Eenheid email: mailboxtankenzonderbetalen@klpd.politie.nl of op nummer 088-6628268 (ma t/m vr  08:00 tot 12:30 uur en van 13:00 tot 15:30 uur).\\n\\nVoor het opvragen van documenten (aangiften, beelden c.q. schuldbekentenissen en/of kopie ID-bewijzen) dient u zich te vervoegen bij de infodesk in uw eenheid. De infodesk legt dan het verzoek neer bij de infodesk van de Landelijke Eenheid. (mailboxdlioinformatieknooppuntle@klpd.politie.nl) \\n'\n",
    "    t00=\"In deze registratie gaat het om een melding tanken zonder betalen. Wanneer het kenteken drie maal bij de Landelijk Eenheid is geregistreerd voor tanken zonder betalen, dan worden de beschikbare gegevens van de Landelijke Eenheid doorgezonden naar de betrokken regio met het verzoek een opsporingsonderzoek naar de verantwoordelijke dader/kentekenhouder op te starten.\\n\\nVoor meer informatie neem contact op met de politie Landelijke Eenheid email: mailboxtankenzonderbetalen@klpd.politie.nl of op nummer 088-6628268 (ma t/m vr 08:00 tot 12:30 uur en van 13:00 tot 15:30 uur).\\n\\nVoor het opvragen van documenten (aangiften, beelden c.q. schuldbekentenissen en/of kopie ID-bewijzen) dient u zich te vervoegen bij de infodesk in uw eenheid. De infodesk legt dan het verzoek neer bij de infodesk van de Landelijke Eenheid. (mailboxdlioinformatieknooppuntle@klpd.politie.nl) \\n\"\n",
    "    tl=\"Schade omschrijving LANTAARNPAAL: Lichtmast is aangereden door een onbekend motorvoertuig.\"\n",
    "    tl2=\"AANGIFTE OPGENOMEN MIDDELS INTERNET\\n\\n\\n\\nSchade omschrijving LANTAARNPAAL: Er is schade veroorzaakt aan een lichtmast welk is aangereden door een onbekend motorvoertuig.\\nIndien u informatie beschikt omtrent deze schade zouden wij graag het gemaakte proces verbaal met het verbaalnummer willen ontvangen via U of via SPV.\\nEr is een buurtonderzoek opgestart om te achterhalen of er een dader bekend is.\"\n",
    "    ti=\"\\nDeze toelichting is door Aangifte via Intranet automatisch aangevuld.\\nOorspronkelijke toelichting:\"\n",
    "    \n",
    "    if l_start in row: #1\n",
    "        row=row.split(l_start)[0] #extract text before standard line\n",
    "        if row == t or row == t+t1 or row == t+t2 or row == t+t3 or row == t+t4+tl or row == tc+t+t3 or row == tc+t1+t+t1 or row == tc+t1+t+t3 or row == t+t1+ta or row == t+t2+ta or row == t+t3+ta or row == t+t4+ta or row == t+t4+ta+t1+tb:\n",
    "            text= row.replace(row,\" \")\n",
    "            return text\n",
    "        else:\n",
    "            text=row\n",
    "            return text\n",
    "    elif p_start1 in row:#2\n",
    "        text=row.split(p_start1)[0]\n",
    "        return text\n",
    "    elif p_start2 in row:#3\n",
    "        text=row.split(p_start2)[0]\n",
    "        return text\n",
    "    elif row == t or row == t+t1 or row == t+t2 or row == t+t3 or row == t+t4+tl or row == tc+t+t3 or row == tc+t1+t+t1 or row == tc+t1+t+t3 or row == t+t1+ta or row == t+t2+ta or row == t+t3+ta or row == t+t4+ta or row == t+t4+ta+t1+tb:\n",
    "        text= row.replace(row,\" \") #4\n",
    "        return text\n",
    "    elif row == t1 or row == ti or row == tl2: #5\n",
    "        text= row.replace(row,\" \")\n",
    "        return text\n",
    "    elif row == t0 or row == t00: #6 tank zonder betalen\n",
    "        text= row.replace(row,\" \")\n",
    "        return text\n",
    "    else:\n",
    "        return row"
   ]
  },
  {
   "cell_type": "markdown",
   "metadata": {},
   "source": [
    "### 3.2 Extract NL from Verklaring field"
   ]
  },
  {
   "cell_type": "code",
   "execution_count": null,
   "metadata": {},
   "outputs": [],
   "source": [
    "def extract_nlv(row):\n",
    "    \"Extracts natural language texts from LMIO Verklaring section\"\n",
    "    start=\"\\nConflict Omschrijving conflict\"\n",
    "    end=\"\\nConflict\"\n",
    "    l1=\"De lichtmast is aangereden door een onbekend gebleven motorrijtuig.\\n\\n\\n\"\n",
    "    l2=\"Lichtmast is aangereden door onbekend motorvoertuig.\\n\\n\\n\"\n",
    "    l3=\"Lichtmast aangereden door onbekend motorvoertuig.\\n\\n\\n\"\n",
    "    l4=\"Lichtmast aangereden door onbekend motorvoertuig\\n\\n\\n\"\n",
    "    l5=\"Lichtmast is aangereden door een onbekend motorvoertuig.\\n\\n\\n\"\n",
    "    l6=\"Er is schade veroorzaakt aan een lichtmast welk is aangereden door een onbekend motorvoertuig.\\nIndien u informatie beschikt omtrent deze schade zouden wij graag het gemaakte proces verbaal met het verbaalnummer willen ontvangen via U of via SPV.\\nEr is een buurtonderzoek opgestart om te achterhalen of er een dader bekend is.\\n\\n\\n\"\n",
    "    l7=\"Door een onbekend gebleven motorvoertuig is een\\nlichtmast aangereden en deze heeft hierdoor schade\\nopgelopen. Er is een buurtonderzoek opgestart om te\\nkijken of er een dader bekend is. Als u over informatie\\nbeschikt aangaande deze schade, zouden wij graag in\\nhet bezit komen van het gemaakte proces verbaal via u\\nof via SPV, graag het verbaalnummer doormailen.\\n\\n\\n\"\n",
    "    l8=\"Lichtmast aangereden door onbekend motorvoertuig.\"\n",
    "    l9=\"De lichtmast is aangereden door een onbekend gebleven motorrijtuig.\"\n",
    "    \n",
    "    c0=\"Ik ben ervan op de hoogte dat camerabeelden 12 maanden bewaard moeten blijven.\"\n",
    "    c1=\"Ik ben ervan op de hoogte dat camerabeelden 12 maanden bewaard moeten blijven.\\n\\t\\n\"\n",
    "    \n",
    "    f0=\"Fiets gestolen.\\n\\n\\n\"\n",
    "    f1=\"Mijn fiets is gestolen.\\n\\n\\n\"\n",
    "    f2=\"Fiets gestolen\\n\\n\\n\"\n",
    "    f3='Mijn fiets is gestolen\\n\\n\\n'\n",
    "    f4=\"fiets gestolen\\n\\n\\n\"\n",
    "    f5=\"Ik ben eigenaar van genoemde fiets. \\r\\nOp eerst genoemde dag, datum en tijdstip heb ik mijn fiets geplaatst op genoemde lokatie. Mijn fiets was terdege afgesloten. \\r\\nToen ik op laatst genoemde dag, datum en tijdstip mijn fiets wilde gebruiken, zag ik dat mijn fiets door onbekende(n) was weggenomen.\"\n",
    "    \n",
    "    if start in row:\n",
    "        part=row.split(start)[1]\n",
    "        text=part.split(end)[0]\n",
    "        return text\n",
    "    elif \"AANGIFTE OPGENOMEN MIDDELS INTERNET\\n\\n\\n\" in row: #vaak voorkomend standaard textje\n",
    "        text = row.replace(\"AANGIFTE OPGENOMEN MIDDELS INTERNET\\n\\n\\n\",\" \")\n",
    "        return text\n",
    "    elif row == l1 or row == l2 or row == l3 or row == l4 or row == l5 or row == l6 or row == l7 or row == l8 or row == l9 or row == c0 or row == c1 or row == f0 or row == f1 or row == f2 or row == f3 or row == f4 or row == f5:\n",
    "        text = row.replace(row,\" \")\n",
    "        return text\n",
    "    else:\n",
    "        return row"
   ]
  },
  {
   "cell_type": "code",
   "execution_count": null,
   "metadata": {},
   "outputs": [],
   "source": [
    "pf[\"NLT\"] = pf.apply(lambda row: extract_nlt(row[\"Toelichting\"]), axis=1)\n",
    "pf[\"NLV\"] = pf.apply(lambda row: extract_nlv(row[\"Verklaring\"]), axis=1)"
   ]
  },
  {
   "cell_type": "markdown",
   "metadata": {},
   "source": [
    "### 3.2 Check which rows contains text by adding label"
   ]
  },
  {
   "cell_type": "code",
   "execution_count": null,
   "metadata": {},
   "outputs": [],
   "source": [
    "pf = pf.replace(np.nan, \" \") #replace nans"
   ]
  },
  {
   "cell_type": "code",
   "execution_count": null,
   "metadata": {},
   "outputs": [],
   "source": [
    "def contains_text(row):\n",
    "    if len(row) > 2:\n",
    "        return \"text\"\n",
    "    else:\n",
    "        return \"no text\""
   ]
  },
  {
   "cell_type": "code",
   "execution_count": null,
   "metadata": {},
   "outputs": [],
   "source": [
    "pf[\"TEXT_T\"] = pf.apply(lambda row: contains_text(row[\"NLT\"]), axis=1)\n",
    "pf[\"TEXT_V\"] = pf.apply(lambda row: contains_text(row[\"NLV\"]), axis=1)"
   ]
  },
  {
   "cell_type": "code",
   "execution_count": null,
   "metadata": {},
   "outputs": [],
   "source": [
    "ff = pf.filter(items=[\"Identificatie\",\"NLT\",\"NLV\",\"SCM\",\"Bron\",\"Toelichting\",\"Verklaring\",\"TEXT_T\",\"TEXT_V\"])"
   ]
  },
  {
   "cell_type": "code",
   "execution_count": null,
   "metadata": {},
   "outputs": [],
   "source": [
    "ff.head(1)"
   ]
  },
  {
   "cell_type": "code",
   "execution_count": null,
   "metadata": {},
   "outputs": [],
   "source": [
    "ff.describe(include=\"all\")"
   ]
  },
  {
   "cell_type": "code",
   "execution_count": null,
   "metadata": {},
   "outputs": [],
   "source": [
    "pf.groupby([\"Bron\",\"SCM\",\"TEXT_V\"]).size() #check how many text per strata exist"
   ]
  },
  {
   "cell_type": "code",
   "execution_count": null,
   "metadata": {},
   "outputs": [],
   "source": [
    "pf.groupby([\"Bron\",\"SCM\",\"TEXT_T\"]).size()"
   ]
  },
  {
   "cell_type": "markdown",
   "metadata": {},
   "source": [
    "### 4 Sample section"
   ]
  },
  {
   "cell_type": "markdown",
   "metadata": {},
   "source": [
    "### 4.1 Strata selection function"
   ]
  },
  {
   "cell_type": "code",
   "execution_count": null,
   "metadata": {},
   "outputs": [],
   "source": [
    "def select_samp(source,veld,scm):\n",
    "    \"\"\"\n",
    "    :param param1: name source string \"LMIO\",\"non-LMIO\" or \"politie\"\n",
    "    :param param2: ẗoelichting veld: \"TEXT_T\" or verklaring veld \"TEXT_V\"\n",
    "    :param param3: scm: \"Vermogen\" or Overig\"\n",
    "    \"\"\"\n",
    "    s = ff.loc[(ff[\"Bron\"]==source)&(ff[veld]==\"text\")&(ff[\"SCM\"]==scm)]\n",
    "    if veld == \"TEXT_T\":\n",
    "        selection = s.filter(items=[\"Identificatie\",\"NLT\",\"SCM\",\"Bron\"])\n",
    "    else:\n",
    "        selection = s.filter(items=[\"Identificatie\",\"NLV\",\"SCM\",\"Bron\"])\n",
    "    return selection"
   ]
  },
  {
   "cell_type": "markdown",
   "metadata": {},
   "source": [
    "### 4.2 Select strata"
   ]
  },
  {
   "cell_type": "code",
   "execution_count": null,
   "metadata": {},
   "outputs": [],
   "source": [
    "LtO=select_samp(\"L\",\"TEXT_T\", \"O\")\n",
    "LvO=select_samp(\"L\",\"TEXT_V\", \"O\")\n",
    "LtV=select_samp(\"L\",\"TEXT_T\", \"V\")\n",
    "LvV=select_samp(\"L\",\"TEXT_V\", \"V\")\n",
    "\n",
    "nLtO=select_samp(\"nL\",\"TEXT_T\", \"O\")\n",
    "nLvO=select_samp(\"nL\",\"TEXT_V\", \"O\")\n",
    "nLtV=select_samp(\"nL\",\"TEXT_T\", \"V\")\n",
    "nLvV=select_samp(\"nL\",\"TEXT_V\", \"V\")\n",
    "\n",
    "ptO=select_samp(\"p\",\"TEXT_T\", \"O\")\n",
    "ptV=select_samp(\"p\",\"TEXT_T\", \"V\")"
   ]
  },
  {
   "cell_type": "markdown",
   "metadata": {},
   "source": [
    "### 4.3 Set random seed"
   ]
  },
  {
   "cell_type": "code",
   "execution_count": null,
   "metadata": {},
   "outputs": [],
   "source": [
    "seed = 98527684 #952768498: 305 952728498:389 952728498 972728498"
   ]
  },
  {
   "cell_type": "markdown",
   "metadata": {},
   "source": [
    "### 4.4 Select samples per strata"
   ]
  },
  {
   "cell_type": "code",
   "execution_count": null,
   "metadata": {},
   "outputs": [],
   "source": [
    "def sample_55(df): \n",
    "    sf = df.sample(n = 60, replace = False, random_state = rng)\n",
    "    return sf"
   ]
  },
  {
   "cell_type": "code",
   "execution_count": null,
   "metadata": {},
   "outputs": [],
   "source": [
    "def sample_12(df):\n",
    "    sf = df.sample(n = 12, replace = False, random_state = rng)\n",
    "    return sf"
   ]
  },
  {
   "cell_type": "code",
   "execution_count": null,
   "metadata": {},
   "outputs": [],
   "source": [
    "def sample_98(df):\n",
    "    sf = df.sample(n = 105, replace = False, random_state = rng)\n",
    "    return sf"
   ]
  },
  {
   "cell_type": "code",
   "execution_count": null,
   "metadata": {},
   "outputs": [],
   "source": [
    "def sample_125(df):\n",
    "    sf = df.sample(n = 125, replace = False, random_state = rng)\n",
    "    return sf"
   ]
  },
  {
   "cell_type": "code",
   "execution_count": null,
   "metadata": {},
   "outputs": [],
   "source": [
    "#ronde 1\n",
    "rng = np.random.RandomState(seed) #set only once; not for every round\n",
    "sLtO = sample_12(LtO)\n",
    "sLvO = sample_12(LvO)\n",
    "\n",
    "sLtV = sample_98(LtV)\n",
    "sLvV = sample_98(LvV)\n",
    "\n",
    "snLvO = sample_55(nLvO)\n",
    "snLvV = sample_55(nLvV)\n",
    "\n",
    "snLtO = sample_55(nLtO)\n",
    "snLtV = sample_55(nLtV)\n",
    "\n",
    "sptO = sample_55(ptO)\n",
    "sptV = sample_55(ptV)"
   ]
  },
  {
   "cell_type": "code",
   "execution_count": null,
   "metadata": {},
   "outputs": [],
   "source": [
    "#ronde 2\n",
    "sLtV = sample_125(LtV)\n",
    "sLvV = sample_125(LvV)\n",
    "\n",
    "snLvO = sample_55(nLvO)\n",
    "snLvV = sample_55(nLvV)\n",
    "\n",
    "snLtO = sample_55(nLtO)\n",
    "snLtV = sample_55(nLtV)\n",
    "\n",
    "sptO = sample_55(ptO)\n",
    "sptV = sample_55(ptV)"
   ]
  },
  {
   "cell_type": "code",
   "execution_count": null,
   "metadata": {},
   "outputs": [],
   "source": [
    "#ronde 1\n",
    "smp = [sLtO, sLvO, sLtV, sLvV, snLvV, snLtO, sptO, sptV, snLvO, snLtV] # strata\n",
    "samplesize = [12,12, 98, 98, 55,55,55, 55,55, 55]# number of texts to select"
   ]
  },
  {
   "cell_type": "code",
   "execution_count": null,
   "metadata": {},
   "outputs": [],
   "source": [
    "#ronde 2\n",
    "smp = [sLtV, sLvV, snLvV, snLtO, sptO, sptV, snLvO, snLtV] # strata\n",
    "samplesize = [120, 120, 55,55,55, 55,55, 55] # number of texts to select"
   ]
  },
  {
   "cell_type": "markdown",
   "metadata": {},
   "source": [
    "### 5 Take strata selections and samplesizes and output conll files per sta"
   ]
  },
  {
   "cell_type": "code",
   "execution_count": null,
   "metadata": {},
   "outputs": [],
   "source": [
    "for df,sz in zip(smp,samplesize):\n",
    "    lf = list(df)\n",
    "    if \"NLT\" in lf:\n",
    "        col = list(df[\"NLT\"])\n",
    "        field =\"t\"\n",
    "    if \"NLV\" in lf:\n",
    "        col = list(df[\"NLV\"])\n",
    "        field =\"v\"\n",
    "\n",
    "    IDs = list(df[\"Identificatie\"])\n",
    "    sources = list(df[\"Bron\"])\n",
    "    scm = list(df[\"SCM\"])\n",
    "    nlist = list(range(1,125))\n",
    "\n",
    "    teller=0\n",
    "    for n,txt,ID,s,c in zip(nlist,col,IDs,sources,scm):\n",
    "        try:\n",
    "            text_to_conll(text=txt,\n",
    "                        nlp=nlp,\n",
    "                        delimiter=\" \",\n",
    "                        output_dir='sample_2',\n",
    "                        basename=f'{s}{field}{c}_{n}_{ID}.conll',\n",
    "                        spacy_attrs=['text', 'lemma_', 'ent_type_', 'ent_type_'],\n",
    "                        default_values={'ent_type_': \"O\"},\n",
    "                        exclude=['is_space'],\n",
    "                        start_with_index=False,\n",
    "                        verbose=1,\n",
    "                        overwrite_existing_conll_file=True)\n",
    "            teller=teller+1\n",
    "            if teller == sz:\n",
    "                break\n",
    "        except AssertionError:\n",
    "            print(f\"fout in conll file {s}{field}{c}_{n}_{ID}.conll\")\n",
    "            os.remove(f\"sample_2/{s}{field}{c}_{n}_{ID}.conll\")"
   ]
  }
 ],
 "metadata": {
  "kernelspec": {
   "display_name": "Python 3",
   "language": "python",
   "name": "python3"
  },
  "language_info": {
   "codemirror_mode": {
    "name": "ipython",
    "version": 3
   },
   "file_extension": ".py",
   "mimetype": "text/x-python",
   "name": "python",
   "nbconvert_exporter": "python",
   "pygments_lexer": "ipython3",
   "version": "3.7.6"
  }
 },
 "nbformat": 4,
 "nbformat_minor": 4
}
